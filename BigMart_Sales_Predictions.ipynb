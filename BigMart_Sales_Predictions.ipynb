{
  "cells": [
    {
      "cell_type": "markdown",
      "id": "9376182c",
      "metadata": {
        "id": "9376182c"
      },
      "source": [
        "# Hypothesis Generation"
      ]
    },
    {
      "cell_type": "markdown",
      "id": "80e61222",
      "metadata": {
        "id": "80e61222"
      },
      "source": [
        "Item_weight: More the item weight, lessor the outlet sales       \n",
        "Item_Fat_Content: More the fat, lessor the outlet sales       \n",
        "Item_Visibility: More the item visibility, more the outlet sales.       \n",
        "Item_Type: --       \n",
        "Item_MRP: Lessor the MRP, more the outlet sales.       \n",
        "Outlet_Establishment_Year: Older the outlet,more of their regular customers, thus more outlet sales       \n",
        "Outlet_Size: Bigger the outlet, more the outlet sales       \n",
        "Outlet_Location_Type: smaller the outlet tier, better the location of the outlet, more the outlet sales       \n",
        "Outlet_Type: Supermarkets are bigger than Grocery stores, thus more outlet sales in supermarkets       "
      ]
    },
    {
      "cell_type": "markdown",
      "id": "f593fde1",
      "metadata": {
        "id": "f593fde1"
      },
      "source": [
        "# Loading Packages and Data"
      ]
    },
    {
      "cell_type": "code",
      "execution_count": 3,
      "id": "4c113a40",
      "metadata": {
        "id": "4c113a40"
      },
      "outputs": [],
      "source": [
        "import numpy as np\n",
        "import pandas as pd\n",
        "import matplotlib.pyplot as plt\n",
        "import seaborn as sns\n",
        "np.random.seed(15)"
      ]
    },
    {
      "cell_type": "code",
      "execution_count": 4,
      "id": "dbe26da2",
      "metadata": {
        "id": "dbe26da2"
      },
      "outputs": [],
      "source": [
        "train = pd.read_csv('Train.csv')\n",
        "test = pd.read_csv(\"Test.csv\")"
      ]
    },
    {
      "cell_type": "markdown",
      "id": "553791d5",
      "metadata": {
        "id": "553791d5"
      },
      "source": [
        "# Dataset Exploration"
      ]
    },
    {
      "cell_type": "code",
      "execution_count": 5,
      "id": "42e591d3",
      "metadata": {
        "colab": {
          "base_uri": "https://localhost:8080/",
          "height": 357
        },
        "id": "42e591d3",
        "outputId": "53a4e953-9dfc-4cfc-fff0-273d86a6e862"
      },
      "outputs": [
        {
          "data": {
            "text/html": [
              "\n",
              "  <div id=\"df-c0935190-cff3-4c28-9f2b-341f40e7d876\">\n",
              "    <div class=\"colab-df-container\">\n",
              "      <div>\n",
              "<style scoped>\n",
              "    .dataframe tbody tr th:only-of-type {\n",
              "        vertical-align: middle;\n",
              "    }\n",
              "\n",
              "    .dataframe tbody tr th {\n",
              "        vertical-align: top;\n",
              "    }\n",
              "\n",
              "    .dataframe thead th {\n",
              "        text-align: right;\n",
              "    }\n",
              "</style>\n",
              "<table border=\"1\" class=\"dataframe\">\n",
              "  <thead>\n",
              "    <tr style=\"text-align: right;\">\n",
              "      <th></th>\n",
              "      <th>Item_Identifier</th>\n",
              "      <th>Item_Weight</th>\n",
              "      <th>Item_Fat_Content</th>\n",
              "      <th>Item_Visibility</th>\n",
              "      <th>Item_Type</th>\n",
              "      <th>Item_MRP</th>\n",
              "      <th>Outlet_Identifier</th>\n",
              "      <th>Outlet_Establishment_Year</th>\n",
              "      <th>Outlet_Size</th>\n",
              "      <th>Outlet_Location_Type</th>\n",
              "      <th>Outlet_Type</th>\n",
              "      <th>Item_Outlet_Sales</th>\n",
              "    </tr>\n",
              "  </thead>\n",
              "  <tbody>\n",
              "    <tr>\n",
              "      <th>0</th>\n",
              "      <td>FDA15</td>\n",
              "      <td>9.30</td>\n",
              "      <td>Low Fat</td>\n",
              "      <td>0.016047</td>\n",
              "      <td>Dairy</td>\n",
              "      <td>249.8092</td>\n",
              "      <td>OUT049</td>\n",
              "      <td>1999</td>\n",
              "      <td>Medium</td>\n",
              "      <td>Tier 1</td>\n",
              "      <td>Supermarket Type1</td>\n",
              "      <td>3735.1380</td>\n",
              "    </tr>\n",
              "    <tr>\n",
              "      <th>1</th>\n",
              "      <td>DRC01</td>\n",
              "      <td>5.92</td>\n",
              "      <td>Regular</td>\n",
              "      <td>0.019278</td>\n",
              "      <td>Soft Drinks</td>\n",
              "      <td>48.2692</td>\n",
              "      <td>OUT018</td>\n",
              "      <td>2009</td>\n",
              "      <td>Medium</td>\n",
              "      <td>Tier 3</td>\n",
              "      <td>Supermarket Type2</td>\n",
              "      <td>443.4228</td>\n",
              "    </tr>\n",
              "    <tr>\n",
              "      <th>2</th>\n",
              "      <td>FDN15</td>\n",
              "      <td>17.50</td>\n",
              "      <td>Low Fat</td>\n",
              "      <td>0.016760</td>\n",
              "      <td>Meat</td>\n",
              "      <td>141.6180</td>\n",
              "      <td>OUT049</td>\n",
              "      <td>1999</td>\n",
              "      <td>Medium</td>\n",
              "      <td>Tier 1</td>\n",
              "      <td>Supermarket Type1</td>\n",
              "      <td>2097.2700</td>\n",
              "    </tr>\n",
              "    <tr>\n",
              "      <th>3</th>\n",
              "      <td>FDX07</td>\n",
              "      <td>19.20</td>\n",
              "      <td>Regular</td>\n",
              "      <td>0.000000</td>\n",
              "      <td>Fruits and Vegetables</td>\n",
              "      <td>182.0950</td>\n",
              "      <td>OUT010</td>\n",
              "      <td>1998</td>\n",
              "      <td>NaN</td>\n",
              "      <td>Tier 3</td>\n",
              "      <td>Grocery Store</td>\n",
              "      <td>732.3800</td>\n",
              "    </tr>\n",
              "    <tr>\n",
              "      <th>4</th>\n",
              "      <td>NCD19</td>\n",
              "      <td>8.93</td>\n",
              "      <td>Low Fat</td>\n",
              "      <td>0.000000</td>\n",
              "      <td>Household</td>\n",
              "      <td>53.8614</td>\n",
              "      <td>OUT013</td>\n",
              "      <td>1987</td>\n",
              "      <td>High</td>\n",
              "      <td>Tier 3</td>\n",
              "      <td>Supermarket Type1</td>\n",
              "      <td>994.7052</td>\n",
              "    </tr>\n",
              "  </tbody>\n",
              "</table>\n",
              "</div>\n",
              "      <button class=\"colab-df-convert\" onclick=\"convertToInteractive('df-c0935190-cff3-4c28-9f2b-341f40e7d876')\"\n",
              "              title=\"Convert this dataframe to an interactive table.\"\n",
              "              style=\"display:none;\">\n",
              "        \n",
              "  <svg xmlns=\"http://www.w3.org/2000/svg\" height=\"24px\"viewBox=\"0 0 24 24\"\n",
              "       width=\"24px\">\n",
              "    <path d=\"M0 0h24v24H0V0z\" fill=\"none\"/>\n",
              "    <path d=\"M18.56 5.44l.94 2.06.94-2.06 2.06-.94-2.06-.94-.94-2.06-.94 2.06-2.06.94zm-11 1L8.5 8.5l.94-2.06 2.06-.94-2.06-.94L8.5 2.5l-.94 2.06-2.06.94zm10 10l.94 2.06.94-2.06 2.06-.94-2.06-.94-.94-2.06-.94 2.06-2.06.94z\"/><path d=\"M17.41 7.96l-1.37-1.37c-.4-.4-.92-.59-1.43-.59-.52 0-1.04.2-1.43.59L10.3 9.45l-7.72 7.72c-.78.78-.78 2.05 0 2.83L4 21.41c.39.39.9.59 1.41.59.51 0 1.02-.2 1.41-.59l7.78-7.78 2.81-2.81c.8-.78.8-2.07 0-2.86zM5.41 20L4 18.59l7.72-7.72 1.47 1.35L5.41 20z\"/>\n",
              "  </svg>\n",
              "      </button>\n",
              "      \n",
              "  <style>\n",
              "    .colab-df-container {\n",
              "      display:flex;\n",
              "      flex-wrap:wrap;\n",
              "      gap: 12px;\n",
              "    }\n",
              "\n",
              "    .colab-df-convert {\n",
              "      background-color: #E8F0FE;\n",
              "      border: none;\n",
              "      border-radius: 50%;\n",
              "      cursor: pointer;\n",
              "      display: none;\n",
              "      fill: #1967D2;\n",
              "      height: 32px;\n",
              "      padding: 0 0 0 0;\n",
              "      width: 32px;\n",
              "    }\n",
              "\n",
              "    .colab-df-convert:hover {\n",
              "      background-color: #E2EBFA;\n",
              "      box-shadow: 0px 1px 2px rgba(60, 64, 67, 0.3), 0px 1px 3px 1px rgba(60, 64, 67, 0.15);\n",
              "      fill: #174EA6;\n",
              "    }\n",
              "\n",
              "    [theme=dark] .colab-df-convert {\n",
              "      background-color: #3B4455;\n",
              "      fill: #D2E3FC;\n",
              "    }\n",
              "\n",
              "    [theme=dark] .colab-df-convert:hover {\n",
              "      background-color: #434B5C;\n",
              "      box-shadow: 0px 1px 3px 1px rgba(0, 0, 0, 0.15);\n",
              "      filter: drop-shadow(0px 1px 2px rgba(0, 0, 0, 0.3));\n",
              "      fill: #FFFFFF;\n",
              "    }\n",
              "  </style>\n",
              "\n",
              "      <script>\n",
              "        const buttonEl =\n",
              "          document.querySelector('#df-c0935190-cff3-4c28-9f2b-341f40e7d876 button.colab-df-convert');\n",
              "        buttonEl.style.display =\n",
              "          google.colab.kernel.accessAllowed ? 'block' : 'none';\n",
              "\n",
              "        async function convertToInteractive(key) {\n",
              "          const element = document.querySelector('#df-c0935190-cff3-4c28-9f2b-341f40e7d876');\n",
              "          const dataTable =\n",
              "            await google.colab.kernel.invokeFunction('convertToInteractive',\n",
              "                                                     [key], {});\n",
              "          if (!dataTable) return;\n",
              "\n",
              "          const docLinkHtml = 'Like what you see? Visit the ' +\n",
              "            '<a target=\"_blank\" href=https://colab.research.google.com/notebooks/data_table.ipynb>data table notebook</a>'\n",
              "            + ' to learn more about interactive tables.';\n",
              "          element.innerHTML = '';\n",
              "          dataTable['output_type'] = 'display_data';\n",
              "          await google.colab.output.renderOutput(dataTable, element);\n",
              "          const docLink = document.createElement('div');\n",
              "          docLink.innerHTML = docLinkHtml;\n",
              "          element.appendChild(docLink);\n",
              "        }\n",
              "      </script>\n",
              "    </div>\n",
              "  </div>\n",
              "  "
            ],
            "text/plain": [
              "  Item_Identifier  Item_Weight Item_Fat_Content  Item_Visibility  \\\n",
              "0           FDA15         9.30          Low Fat         0.016047   \n",
              "1           DRC01         5.92          Regular         0.019278   \n",
              "2           FDN15        17.50          Low Fat         0.016760   \n",
              "3           FDX07        19.20          Regular         0.000000   \n",
              "4           NCD19         8.93          Low Fat         0.000000   \n",
              "\n",
              "               Item_Type  Item_MRP Outlet_Identifier  \\\n",
              "0                  Dairy  249.8092            OUT049   \n",
              "1            Soft Drinks   48.2692            OUT018   \n",
              "2                   Meat  141.6180            OUT049   \n",
              "3  Fruits and Vegetables  182.0950            OUT010   \n",
              "4              Household   53.8614            OUT013   \n",
              "\n",
              "   Outlet_Establishment_Year Outlet_Size Outlet_Location_Type  \\\n",
              "0                       1999      Medium               Tier 1   \n",
              "1                       2009      Medium               Tier 3   \n",
              "2                       1999      Medium               Tier 1   \n",
              "3                       1998         NaN               Tier 3   \n",
              "4                       1987        High               Tier 3   \n",
              "\n",
              "         Outlet_Type  Item_Outlet_Sales  \n",
              "0  Supermarket Type1          3735.1380  \n",
              "1  Supermarket Type2           443.4228  \n",
              "2  Supermarket Type1          2097.2700  \n",
              "3      Grocery Store           732.3800  \n",
              "4  Supermarket Type1           994.7052  "
            ]
          },
          "execution_count": 5,
          "metadata": {},
          "output_type": "execute_result"
        }
      ],
      "source": [
        "train.head()"
      ]
    },
    {
      "cell_type": "code",
      "execution_count": 6,
      "id": "6a873fa6",
      "metadata": {
        "colab": {
          "base_uri": "https://localhost:8080/",
          "height": 319
        },
        "id": "6a873fa6",
        "outputId": "b74e0a64-f5d6-43d2-ec82-3021e551bbe1"
      },
      "outputs": [
        {
          "data": {
            "text/html": [
              "\n",
              "  <div id=\"df-8cea0466-a361-406e-bb0a-f8574d255a72\">\n",
              "    <div class=\"colab-df-container\">\n",
              "      <div>\n",
              "<style scoped>\n",
              "    .dataframe tbody tr th:only-of-type {\n",
              "        vertical-align: middle;\n",
              "    }\n",
              "\n",
              "    .dataframe tbody tr th {\n",
              "        vertical-align: top;\n",
              "    }\n",
              "\n",
              "    .dataframe thead th {\n",
              "        text-align: right;\n",
              "    }\n",
              "</style>\n",
              "<table border=\"1\" class=\"dataframe\">\n",
              "  <thead>\n",
              "    <tr style=\"text-align: right;\">\n",
              "      <th></th>\n",
              "      <th>Item_Identifier</th>\n",
              "      <th>Item_Weight</th>\n",
              "      <th>Item_Fat_Content</th>\n",
              "      <th>Item_Visibility</th>\n",
              "      <th>Item_Type</th>\n",
              "      <th>Item_MRP</th>\n",
              "      <th>Outlet_Identifier</th>\n",
              "      <th>Outlet_Establishment_Year</th>\n",
              "      <th>Outlet_Size</th>\n",
              "      <th>Outlet_Location_Type</th>\n",
              "      <th>Outlet_Type</th>\n",
              "    </tr>\n",
              "  </thead>\n",
              "  <tbody>\n",
              "    <tr>\n",
              "      <th>0</th>\n",
              "      <td>FDW58</td>\n",
              "      <td>20.750</td>\n",
              "      <td>Low Fat</td>\n",
              "      <td>0.007565</td>\n",
              "      <td>Snack Foods</td>\n",
              "      <td>107.8622</td>\n",
              "      <td>OUT049</td>\n",
              "      <td>1999</td>\n",
              "      <td>Medium</td>\n",
              "      <td>Tier 1</td>\n",
              "      <td>Supermarket Type1</td>\n",
              "    </tr>\n",
              "    <tr>\n",
              "      <th>1</th>\n",
              "      <td>FDW14</td>\n",
              "      <td>8.300</td>\n",
              "      <td>reg</td>\n",
              "      <td>0.038428</td>\n",
              "      <td>Dairy</td>\n",
              "      <td>87.3198</td>\n",
              "      <td>OUT017</td>\n",
              "      <td>2007</td>\n",
              "      <td>NaN</td>\n",
              "      <td>Tier 2</td>\n",
              "      <td>Supermarket Type1</td>\n",
              "    </tr>\n",
              "    <tr>\n",
              "      <th>2</th>\n",
              "      <td>NCN55</td>\n",
              "      <td>14.600</td>\n",
              "      <td>Low Fat</td>\n",
              "      <td>0.099575</td>\n",
              "      <td>Others</td>\n",
              "      <td>241.7538</td>\n",
              "      <td>OUT010</td>\n",
              "      <td>1998</td>\n",
              "      <td>NaN</td>\n",
              "      <td>Tier 3</td>\n",
              "      <td>Grocery Store</td>\n",
              "    </tr>\n",
              "    <tr>\n",
              "      <th>3</th>\n",
              "      <td>FDQ58</td>\n",
              "      <td>7.315</td>\n",
              "      <td>Low Fat</td>\n",
              "      <td>0.015388</td>\n",
              "      <td>Snack Foods</td>\n",
              "      <td>155.0340</td>\n",
              "      <td>OUT017</td>\n",
              "      <td>2007</td>\n",
              "      <td>NaN</td>\n",
              "      <td>Tier 2</td>\n",
              "      <td>Supermarket Type1</td>\n",
              "    </tr>\n",
              "    <tr>\n",
              "      <th>4</th>\n",
              "      <td>FDY38</td>\n",
              "      <td>NaN</td>\n",
              "      <td>Regular</td>\n",
              "      <td>0.118599</td>\n",
              "      <td>Dairy</td>\n",
              "      <td>234.2300</td>\n",
              "      <td>OUT027</td>\n",
              "      <td>1985</td>\n",
              "      <td>Medium</td>\n",
              "      <td>Tier 3</td>\n",
              "      <td>Supermarket Type3</td>\n",
              "    </tr>\n",
              "  </tbody>\n",
              "</table>\n",
              "</div>\n",
              "      <button class=\"colab-df-convert\" onclick=\"convertToInteractive('df-8cea0466-a361-406e-bb0a-f8574d255a72')\"\n",
              "              title=\"Convert this dataframe to an interactive table.\"\n",
              "              style=\"display:none;\">\n",
              "        \n",
              "  <svg xmlns=\"http://www.w3.org/2000/svg\" height=\"24px\"viewBox=\"0 0 24 24\"\n",
              "       width=\"24px\">\n",
              "    <path d=\"M0 0h24v24H0V0z\" fill=\"none\"/>\n",
              "    <path d=\"M18.56 5.44l.94 2.06.94-2.06 2.06-.94-2.06-.94-.94-2.06-.94 2.06-2.06.94zm-11 1L8.5 8.5l.94-2.06 2.06-.94-2.06-.94L8.5 2.5l-.94 2.06-2.06.94zm10 10l.94 2.06.94-2.06 2.06-.94-2.06-.94-.94-2.06-.94 2.06-2.06.94z\"/><path d=\"M17.41 7.96l-1.37-1.37c-.4-.4-.92-.59-1.43-.59-.52 0-1.04.2-1.43.59L10.3 9.45l-7.72 7.72c-.78.78-.78 2.05 0 2.83L4 21.41c.39.39.9.59 1.41.59.51 0 1.02-.2 1.41-.59l7.78-7.78 2.81-2.81c.8-.78.8-2.07 0-2.86zM5.41 20L4 18.59l7.72-7.72 1.47 1.35L5.41 20z\"/>\n",
              "  </svg>\n",
              "      </button>\n",
              "      \n",
              "  <style>\n",
              "    .colab-df-container {\n",
              "      display:flex;\n",
              "      flex-wrap:wrap;\n",
              "      gap: 12px;\n",
              "    }\n",
              "\n",
              "    .colab-df-convert {\n",
              "      background-color: #E8F0FE;\n",
              "      border: none;\n",
              "      border-radius: 50%;\n",
              "      cursor: pointer;\n",
              "      display: none;\n",
              "      fill: #1967D2;\n",
              "      height: 32px;\n",
              "      padding: 0 0 0 0;\n",
              "      width: 32px;\n",
              "    }\n",
              "\n",
              "    .colab-df-convert:hover {\n",
              "      background-color: #E2EBFA;\n",
              "      box-shadow: 0px 1px 2px rgba(60, 64, 67, 0.3), 0px 1px 3px 1px rgba(60, 64, 67, 0.15);\n",
              "      fill: #174EA6;\n",
              "    }\n",
              "\n",
              "    [theme=dark] .colab-df-convert {\n",
              "      background-color: #3B4455;\n",
              "      fill: #D2E3FC;\n",
              "    }\n",
              "\n",
              "    [theme=dark] .colab-df-convert:hover {\n",
              "      background-color: #434B5C;\n",
              "      box-shadow: 0px 1px 3px 1px rgba(0, 0, 0, 0.15);\n",
              "      filter: drop-shadow(0px 1px 2px rgba(0, 0, 0, 0.3));\n",
              "      fill: #FFFFFF;\n",
              "    }\n",
              "  </style>\n",
              "\n",
              "      <script>\n",
              "        const buttonEl =\n",
              "          document.querySelector('#df-8cea0466-a361-406e-bb0a-f8574d255a72 button.colab-df-convert');\n",
              "        buttonEl.style.display =\n",
              "          google.colab.kernel.accessAllowed ? 'block' : 'none';\n",
              "\n",
              "        async function convertToInteractive(key) {\n",
              "          const element = document.querySelector('#df-8cea0466-a361-406e-bb0a-f8574d255a72');\n",
              "          const dataTable =\n",
              "            await google.colab.kernel.invokeFunction('convertToInteractive',\n",
              "                                                     [key], {});\n",
              "          if (!dataTable) return;\n",
              "\n",
              "          const docLinkHtml = 'Like what you see? Visit the ' +\n",
              "            '<a target=\"_blank\" href=https://colab.research.google.com/notebooks/data_table.ipynb>data table notebook</a>'\n",
              "            + ' to learn more about interactive tables.';\n",
              "          element.innerHTML = '';\n",
              "          dataTable['output_type'] = 'display_data';\n",
              "          await google.colab.output.renderOutput(dataTable, element);\n",
              "          const docLink = document.createElement('div');\n",
              "          docLink.innerHTML = docLinkHtml;\n",
              "          element.appendChild(docLink);\n",
              "        }\n",
              "      </script>\n",
              "    </div>\n",
              "  </div>\n",
              "  "
            ],
            "text/plain": [
              "  Item_Identifier  Item_Weight Item_Fat_Content  Item_Visibility    Item_Type  \\\n",
              "0           FDW58       20.750          Low Fat         0.007565  Snack Foods   \n",
              "1           FDW14        8.300              reg         0.038428        Dairy   \n",
              "2           NCN55       14.600          Low Fat         0.099575       Others   \n",
              "3           FDQ58        7.315          Low Fat         0.015388  Snack Foods   \n",
              "4           FDY38          NaN          Regular         0.118599        Dairy   \n",
              "\n",
              "   Item_MRP Outlet_Identifier  Outlet_Establishment_Year Outlet_Size  \\\n",
              "0  107.8622            OUT049                       1999      Medium   \n",
              "1   87.3198            OUT017                       2007         NaN   \n",
              "2  241.7538            OUT010                       1998         NaN   \n",
              "3  155.0340            OUT017                       2007         NaN   \n",
              "4  234.2300            OUT027                       1985      Medium   \n",
              "\n",
              "  Outlet_Location_Type        Outlet_Type  \n",
              "0               Tier 1  Supermarket Type1  \n",
              "1               Tier 2  Supermarket Type1  \n",
              "2               Tier 3      Grocery Store  \n",
              "3               Tier 2  Supermarket Type1  \n",
              "4               Tier 3  Supermarket Type3  "
            ]
          },
          "execution_count": 6,
          "metadata": {},
          "output_type": "execute_result"
        }
      ],
      "source": [
        "test.head()"
      ]
    },
    {
      "cell_type": "code",
      "execution_count": 7,
      "id": "ffdd94e1",
      "metadata": {
        "id": "ffdd94e1"
      },
      "outputs": [],
      "source": [
        "def dash_line():\n",
        "    print(\"-----------------------------------------------------------------\")\n",
        "\n",
        "def dataset_info(dataset):\n",
        "    print(\"Shape of dataset: \")\n",
        "    print('Total Number of samples: ',dataset.shape[0])\n",
        "    print('Total Number of features: ',dataset.shape[1])\n",
        "    dash_line()\n",
        "    print(\"\\nFloat columns: \")\n",
        "    float_cols = [f for f in dataset.columns if dataset[f].dtype == 'float64']\n",
        "    print(float_cols)\n",
        "    print('Num of float cols: ',len(float_cols))\n",
        "    dash_line()\n",
        "    print(\"\\nInteger columns: \")\n",
        "    int_cols = [f for f in dataset.columns if dataset[f].dtype == 'int64']\n",
        "    print(int_cols)\n",
        "    print('Num of Int cols: ',len(int_cols))\n",
        "    dash_line()\n",
        "    print(\"\\nString columns: \")\n",
        "    str_cols = [f for f in dataset.columns if dataset[f].dtype == object]\n",
        "    print(str_cols)\n",
        "    print('\\nNum of string cols: ',len(str_cols))\n",
        "    dash_line()\n",
        "    print(\"\\nMissing Values in each column: \")\n",
        "    missing_cols = [f for f in dataset.columns if dataset[f].isna().any()]\n",
        "    print(dataset[missing_cols].isna().sum())\n",
        "    dash_line()\n",
        "    print(\"\\nChecking for duplicate rows: \")\n",
        "    duplicate = dataset[dataset.duplicated()]\n",
        "    if(len(duplicate)==0):\n",
        "        print('No duplicate rows in Dataset !')\n",
        "    else:\n",
        "        print('There are duplicate rows in Dataset !')\n",
        "        print(duplicate)"
      ]
    },
    {
      "cell_type": "code",
      "execution_count": 8,
      "id": "95e8bdbe",
      "metadata": {
        "colab": {
          "base_uri": "https://localhost:8080/"
        },
        "id": "95e8bdbe",
        "outputId": "8a8f3813-7c46-413c-a2b9-5c1b0d469c92"
      },
      "outputs": [
        {
          "name": "stdout",
          "output_type": "stream",
          "text": [
            "Shape of dataset: \n",
            "Total Number of samples:  8523\n",
            "Total Number of features:  12\n",
            "-----------------------------------------------------------------\n",
            "\n",
            "Float columns: \n",
            "['Item_Weight', 'Item_Visibility', 'Item_MRP', 'Item_Outlet_Sales']\n",
            "Num of float cols:  4\n",
            "-----------------------------------------------------------------\n",
            "\n",
            "Integer columns: \n",
            "['Outlet_Establishment_Year']\n",
            "Num of Int cols:  1\n",
            "-----------------------------------------------------------------\n",
            "\n",
            "String columns: \n",
            "['Item_Identifier', 'Item_Fat_Content', 'Item_Type', 'Outlet_Identifier', 'Outlet_Size', 'Outlet_Location_Type', 'Outlet_Type']\n",
            "\n",
            "Num of string cols:  7\n",
            "-----------------------------------------------------------------\n",
            "\n",
            "Missing Values in each column: \n",
            "Item_Weight    1463\n",
            "Outlet_Size    2410\n",
            "dtype: int64\n",
            "-----------------------------------------------------------------\n",
            "\n",
            "Checking for duplicate rows: \n",
            "No duplicate rows in Dataset !\n"
          ]
        }
      ],
      "source": [
        "dataset_info(train)"
      ]
    },
    {
      "cell_type": "code",
      "execution_count": 9,
      "id": "c254a39f",
      "metadata": {
        "colab": {
          "base_uri": "https://localhost:8080/"
        },
        "id": "c254a39f",
        "outputId": "7f428cae-d9aa-4907-c9f8-27adda566047"
      },
      "outputs": [
        {
          "name": "stdout",
          "output_type": "stream",
          "text": [
            "Shape of dataset: \n",
            "Total Number of samples:  5681\n",
            "Total Number of features:  11\n",
            "-----------------------------------------------------------------\n",
            "\n",
            "Float columns: \n",
            "['Item_Weight', 'Item_Visibility', 'Item_MRP']\n",
            "Num of float cols:  3\n",
            "-----------------------------------------------------------------\n",
            "\n",
            "Integer columns: \n",
            "['Outlet_Establishment_Year']\n",
            "Num of Int cols:  1\n",
            "-----------------------------------------------------------------\n",
            "\n",
            "String columns: \n",
            "['Item_Identifier', 'Item_Fat_Content', 'Item_Type', 'Outlet_Identifier', 'Outlet_Size', 'Outlet_Location_Type', 'Outlet_Type']\n",
            "\n",
            "Num of string cols:  7\n",
            "-----------------------------------------------------------------\n",
            "\n",
            "Missing Values in each column: \n",
            "Item_Weight     976\n",
            "Outlet_Size    1606\n",
            "dtype: int64\n",
            "-----------------------------------------------------------------\n",
            "\n",
            "Checking for duplicate rows: \n",
            "No duplicate rows in Dataset !\n"
          ]
        }
      ],
      "source": [
        "dataset_info(test)"
      ]
    },
    {
      "cell_type": "markdown",
      "id": "c6b1e4fc",
      "metadata": {
        "id": "c6b1e4fc"
      },
      "source": [
        "We can see there are 2 columns 'Item_Weight' and 'Outlet_size' which have missing values in both train and test datasets.\n",
        "Since there are a lot of missing values so we can't just drop all those rows ! we will drop a lot of useful info if we do that."
      ]
    },
    {
      "cell_type": "markdown",
      "id": "f162984d",
      "metadata": {
        "id": "f162984d"
      },
      "source": [
        "# Visualizing Distributions"
      ]
    },
    {
      "cell_type": "code",
      "execution_count": 10,
      "id": "bbc76008",
      "metadata": {
        "colab": {
          "base_uri": "https://localhost:8080/",
          "height": 608
        },
        "id": "bbc76008",
        "outputId": "b6b89a27-618a-458a-bf7b-5de8a8075d75"
      },
      "outputs": [
        {
          "data": {
            "image/png": "[encoded data removed]",
            "text/plain": [
              "<Figure size 576x576 with 4 Axes>"
            ]
          },
          "metadata": {
            "needs_background": "light"
          },
          "output_type": "display_data"
        }
      ],
      "source": [
        "import warnings\n",
        "float_cols = [f for f in train.columns if train[f].dtype == 'float64' or train[f].dtype == 'int64']\n",
        "float_cols.remove('Item_Outlet_Sales')\n",
        "fig, axs = plt.subplots(2,2, figsize=(8,8))\n",
        "for f, ax in zip(float_cols, axs.ravel()):\n",
        "    mi = min(train[f].min(), test[f].min())\n",
        "    ma = max(train[f].max(), test[f].max())\n",
        "    bins = np.linspace(mi, ma, 50)\n",
        "    ax.hist(train[f], bins=bins, alpha=0.4, label='train',density=True)\n",
        "    ax.hist(test[f], bins=bins, alpha=0.4, label='test',density=True)\n",
        "    ax.set_xlabel(f)\n",
        "    if ax == axs[0, 0]: ax.legend(loc='upper right')\n",
        "plt.tight_layout(w_pad=1)\n",
        "plt.suptitle('Train and test distributions of the continuous features', fontsize=20, y=1.02)\n",
        "plt.show()"
      ]
    },
    {
      "cell_type": "code",
      "execution_count": 15,
      "id": "1a1d74e3",
      "metadata": {
        "colab": {
          "base_uri": "https://localhost:8080/",
          "height": 1000
        },
        "id": "1a1d74e3",
        "outputId": "b1defaa6-a43d-4199-a17c-1a2b4305fb01"
      },
      "outputs": [
        {
          "data": {
            "image/png": "[encoded data removed]",
            "text/plain": [
              "<Figure size 936x1080 with 6 Axes>"
            ]
          },
          "metadata": {
            "needs_background": "light"
          },
          "output_type": "display_data"
        }
      ],
      "source": [
        "def count_plots(train_dataset,test_dataset):\n",
        "    string_cols = [f for f in train_dataset.columns if train_dataset[f].dtype == object]\n",
        "    string_cols.remove('Item_Identifier')\n",
        "    train_dataset['Type']='train'\n",
        "    test_dataset['Type']='test'\n",
        "    concatenated = pd.concat([train_dataset,test_dataset])\n",
        "\n",
        "    _, axs = plt.subplots(3,2, figsize=(13,15))\n",
        "    for f, ax in zip(string_cols, axs.ravel()):\n",
        "        ax1 = sns.countplot(x=f,data=concatenated,ax=ax,hue='Type')\n",
        "        # for i in ax1.containers:\n",
        "        #     ax1.bar_label(i,)\n",
        "        ax.set_xlabel(f)\n",
        "        ax1.tick_params(axis='x', rotation=45)\n",
        "    plt.tight_layout(w_pad=1)\n",
        "    plt.show()\n",
        "    \n",
        "count_plots(train,test)\n",
        "train.drop(columns='Type',inplace=True)\n",
        "test.drop(columns='Type',inplace=True)"
      ]
    },
    {
      "cell_type": "markdown",
      "id": "a5bc1db8",
      "metadata": {
        "id": "a5bc1db8"
      },
      "source": [
        "We can see in the Item_fat_content feature that the categories ['Low Fat' ,'LF' ,'low fat' ] refers to same thing also ['Regular', 'reg'] are refering to same thing."
      ]
    },
    {
      "cell_type": "code",
      "execution_count": 16,
      "id": "f99dd892",
      "metadata": {
        "colab": {
          "base_uri": "https://localhost:8080/"
        },
        "id": "f99dd892",
        "outputId": "22b38c59-ea8d-4e90-92b3-51137649b467"
      },
      "outputs": [
        {
          "name": "stdout",
          "output_type": "stream",
          "text": [
            "['LF' 'R']\n",
            "['LF' 'R']\n"
          ]
        }
      ],
      "source": [
        "correct_values = {'Low Fat':'LF', 'low fat':'LF', 'Regular':'R','reg':'R'}\n",
        "\n",
        "train['Item_Fat_Content'].replace(correct_values,inplace=True)\n",
        "test['Item_Fat_Content'].replace(correct_values,inplace=True)\n",
        "\n",
        "print(train['Item_Fat_Content'].unique())\n",
        "print(test['Item_Fat_Content'].unique())"
      ]
    },
    {
      "cell_type": "code",
      "execution_count": 17,
      "id": "20254f55",
      "metadata": {
        "colab": {
          "base_uri": "https://localhost:8080/",
          "height": 741
        },
        "id": "20254f55",
        "outputId": "2518ada4-20f5-480e-e15f-0ec1688b0aa9"
      },
      "outputs": [
        {
          "data": {
            "image/png": "[encoded data removed]",
            "text/plain": [
              "<Figure size 864x864 with 4 Axes>"
            ]
          },
          "metadata": {
            "needs_background": "light"
          },
          "output_type": "display_data"
        }
      ],
      "source": [
        "df = train.groupby('Outlet_Identifier')[['Item_Weight', 'Item_Visibility', 'Item_MRP', 'Item_Outlet_Sales']].agg([np.mean])\n",
        "columns = df.columns\n",
        "_,axs = plt.subplots(2,2,figsize=(12, 12))\n",
        "col = iter(columns)\n",
        "for f, ax in zip(columns, axs.ravel()):\n",
        "    c=next(col)\n",
        "    ax1 = sns.barplot(x=df.index,y=c,data=df,ax=ax)\n",
        "    ax1.set_xlabel(f)\n",
        "    ax1.tick_params(axis='x', rotation=45)\n",
        "plt.show()"
      ]
    },
    {
      "cell_type": "markdown",
      "id": "852cd8b9",
      "metadata": {
        "id": "852cd8b9"
      },
      "source": [
        "# Visualizing Co-relation between Features"
      ]
    },
    {
      "cell_type": "code",
      "execution_count": 18,
      "id": "30866967",
      "metadata": {
        "colab": {
          "base_uri": "https://localhost:8080/",
          "height": 642
        },
        "id": "30866967",
        "outputId": "1ff5d6bb-66ac-4021-8734-e1aa16cee19e"
      },
      "outputs": [
        {
          "data": {
            "image/png": "[encoded data removed]",
            "text/plain": [
              "<Figure size 720x720 with 2 Axes>"
            ]
          },
          "metadata": {},
          "output_type": "display_data"
        }
      ],
      "source": [
        "corr = train.corr()\n",
        "mask = np.triu(np.ones_like(corr, dtype=bool))\n",
        "f, ax = plt.subplots(figsize=(10, 10), facecolor='#EAECEE')\n",
        "cmap = sns.color_palette(\"rainbow\", as_cmap=True)\n",
        "sns.heatmap(corr, mask=mask, cmap=cmap, vmax=1, vmin=-1., center=0, annot=True,\n",
        "            square=True, linewidths=.5, cbar_kws={\"shrink\": 0.75},fmt='.2f')\n",
        "\n",
        "ax.set_title('Correlation heatmap', fontsize=24, y= 1.05)\n",
        "colorbar = ax.collections[0].colorbar"
      ]
    },
    {
      "cell_type": "markdown",
      "id": "0e66d7c0",
      "metadata": {
        "id": "0e66d7c0"
      },
      "source": [
        "Strong positive co relation between Item_outlet_sales and item_MRP.   \n",
        "which means as the item_MRP increases, so as the outlet_sales increases."
      ]
    },
    {
      "cell_type": "markdown",
      "id": "b26a90df",
      "metadata": {
        "id": "b26a90df"
      },
      "source": [
        "# Dealing with Missing Values"
      ]
    },
    {
      "cell_type": "markdown",
      "id": "64066015",
      "metadata": {
        "id": "64066015"
      },
      "source": [
        "Since 'Outline_Size' depends upon the outlet itself, so we can see the unique number of outlets available in the dataset to see if some of the samples have outlet size or not"
      ]
    },
    {
      "cell_type": "code",
      "execution_count": 19,
      "id": "7b73c45e",
      "metadata": {
        "colab": {
          "base_uri": "https://localhost:8080/"
        },
        "id": "7b73c45e",
        "outputId": "1f49d921-2f7e-46fa-d72c-e29a4a171f6a"
      },
      "outputs": [
        {
          "name": "stdout",
          "output_type": "stream",
          "text": [
            "['OUT049' 'OUT018' 'OUT010' 'OUT013' 'OUT027' 'OUT045' 'OUT017' 'OUT046'\n",
            " 'OUT035' 'OUT019']\n",
            "There are 10 number of different outlets in the train dataset\n"
          ]
        }
      ],
      "source": [
        "print(train['Outlet_Identifier'].unique())\n",
        "print(\"There are \"+str(len(train['Outlet_Identifier'].unique()))+' number of different outlets in the train dataset')"
      ]
    },
    {
      "cell_type": "markdown",
      "id": "09374f34",
      "metadata": {
        "id": "09374f34"
      },
      "source": [
        "Lets see if some samples in the dataset gives us the info (the size of these 10 outlets) so that we can fill the missing values."
      ]
    },
    {
      "cell_type": "code",
      "execution_count": 20,
      "id": "c25973fb",
      "metadata": {
        "colab": {
          "base_uri": "https://localhost:8080/"
        },
        "id": "c25973fb",
        "outputId": "23e786d4-82c1-4d9d-8bd6-0fb540f066f5"
      },
      "outputs": [
        {
          "data": {
            "text/plain": [
              "Outlet_Identifier  Outlet_Size\n",
              "OUT013             High           932\n",
              "OUT018             Medium         928\n",
              "OUT019             Small          528\n",
              "OUT027             Medium         935\n",
              "OUT035             Small          930\n",
              "OUT046             Small          930\n",
              "OUT049             Medium         930\n",
              "dtype: int64"
            ]
          },
          "execution_count": 20,
          "metadata": {},
          "output_type": "execute_result"
        }
      ],
      "source": [
        "df = train[~train['Outlet_Size'].isna()]\n",
        "df1 = df.groupby(['Outlet_Identifier','Outlet_Size'])\n",
        "df1.size()"
      ]
    },
    {
      "cell_type": "markdown",
      "id": "50476630",
      "metadata": {
        "id": "50476630"
      },
      "source": [
        "We now have outlet sizes of 7 outlets which we can fill"
      ]
    },
    {
      "cell_type": "markdown",
      "id": "ee156686",
      "metadata": {
        "id": "ee156686"
      },
      "source": [
        "We have no idea what is the size of [ OUT010 , OUT045 , OUT017 ]    \n",
        "Lets see if the 7 outlets with known sizes have any missing values in Outlet_Size column"
      ]
    },
    {
      "cell_type": "code",
      "execution_count": 21,
      "id": "fb83eca0",
      "metadata": {
        "colab": {
          "base_uri": "https://localhost:8080/"
        },
        "id": "fb83eca0",
        "outputId": "810f8675-5b94-4f60-8a26-a6e6256b8de4"
      },
      "outputs": [
        {
          "name": "stdout",
          "output_type": "stream",
          "text": [
            "['OUT010' 'OUT045' 'OUT017']\n",
            "['OUT017' 'OUT010' 'OUT045']\n"
          ]
        }
      ],
      "source": [
        "temp = train[train['Outlet_Size'].isna()]\n",
        "print(temp['Outlet_Identifier'].unique())\n",
        "\n",
        "temp = test[test['Outlet_Size'].isna()]\n",
        "print(temp['Outlet_Identifier'].unique())"
      ]
    },
    {
      "cell_type": "markdown",
      "id": "6c7f96d3",
      "metadata": {
        "id": "6c7f96d3"
      },
      "source": [
        "There are missing values in only [ OUT010 , OUT045 , OUT017 ] outlets"
      ]
    },
    {
      "cell_type": "code",
      "execution_count": 22,
      "id": "ab49d49e",
      "metadata": {
        "colab": {
          "base_uri": "https://localhost:8080/"
        },
        "id": "ab49d49e",
        "outputId": "fd2eebda-3c12-4139-cc20-0c42baefda28"
      },
      "outputs": [
        {
          "data": {
            "text/plain": [
              "Outlet_Type        Outlet_Location_Type  Outlet_Identifier\n",
              "Grocery Store      Tier 1                OUT019               528\n",
              "                   Tier 3                OUT010               555\n",
              "Supermarket Type1  Tier 1                OUT046               930\n",
              "                                         OUT049               930\n",
              "                   Tier 2                OUT017               926\n",
              "                                         OUT035               930\n",
              "                                         OUT045               929\n",
              "                   Tier 3                OUT013               932\n",
              "Supermarket Type2  Tier 3                OUT018               928\n",
              "Supermarket Type3  Tier 3                OUT027               935\n",
              "dtype: int64"
            ]
          },
          "execution_count": 22,
          "metadata": {},
          "output_type": "execute_result"
        }
      ],
      "source": [
        "train.groupby(['Outlet_Type','Outlet_Location_Type','Outlet_Identifier']).size()"
      ]
    },
    {
      "cell_type": "markdown",
      "id": "fe9e7c84",
      "metadata": {
        "id": "fe9e7c84"
      },
      "source": [
        "We can see that OUT017, OUT035, OUT045 all are Supermarket of Type1 in Tier2.    \n",
        "Knowing that OUT035 has a small outlet size, we can assume that OUT017 and OUT045 both are of Small Outlet_size."
      ]
    },
    {
      "cell_type": "code",
      "execution_count": 23,
      "id": "2307b6b1",
      "metadata": {
        "colab": {
          "base_uri": "https://localhost:8080/",
          "height": 745
        },
        "id": "2307b6b1",
        "outputId": "5358de83-e14b-48a3-f967-eb3b6432735b"
      },
      "outputs": [
        {
          "data": {
            "image/png": "[encoded data removed]",
            "text/plain": [
              "<Figure size 864x864 with 4 Axes>"
            ]
          },
          "metadata": {
            "needs_background": "light"
          },
          "output_type": "display_data"
        }
      ],
      "source": [
        "cols = [f for f in train.columns if train[f].dtype == 'int64' or train[f].dtype == 'float64']\n",
        "_,ax = plt.subplots(2,2,figsize=(12,12))\n",
        "for f, ax in zip(cols, ax.ravel()):\n",
        "    df = train.groupby('Outlet_Identifier')[f].mean().plot(kind='bar',ax=ax)\n",
        "    ax.set_xlabel(f)\n",
        "plt.show()"
      ]
    },
    {
      "cell_type": "code",
      "execution_count": 24,
      "id": "c8de34ac",
      "metadata": {
        "colab": {
          "base_uri": "https://localhost:8080/",
          "height": 328
        },
        "id": "c8de34ac",
        "outputId": "5f74be30-ace9-426b-989a-d0bf9d41dfe5"
      },
      "outputs": [
        {
          "data": {
            "text/plain": [
              "<matplotlib.axes._subplots.AxesSubplot at 0x7fc9892efed0>"
            ]
          },
          "execution_count": 24,
          "metadata": {},
          "output_type": "execute_result"
        },
        {
          "data": {
            "image/png": "[encoded data removed]",
            "text/plain": [
              "<Figure size 432x288 with 1 Axes>"
            ]
          },
          "metadata": {
            "needs_background": "light"
          },
          "output_type": "display_data"
        }
      ],
      "source": [
        "train.groupby('Outlet_Identifier')['Item_Outlet_Sales'].mean().plot(kind='bar')"
      ]
    },
    {
      "cell_type": "markdown",
      "id": "7a4a6325",
      "metadata": {
        "id": "7a4a6325"
      },
      "source": [
        "OUT010 and OUT019 have a lot of similarities in all the features so we can assume that OUT010 has a small Outlet_Size"
      ]
    },
    {
      "cell_type": "code",
      "execution_count": 25,
      "id": "f101fabe",
      "metadata": {
        "id": "f101fabe"
      },
      "outputs": [],
      "source": [
        "def filling_outlet_size(dataset,outlets):\n",
        "    new_df = pd.DataFrame()\n",
        "    for outlet in outlets:\n",
        "        df = dataset[dataset['Outlet_Identifier'] == outlet].copy()\n",
        "        if outlet == 'OUT010' or outlet == 'OUT017' or outlet == 'OUT045':\n",
        "            df['Outlet_Size'] = df['Outlet_Size'].fillna('High')\n",
        "            \n",
        "        new_df = pd.concat([new_df,df])\n",
        "    return new_df\n",
        "\n",
        "outlets = train['Outlet_Identifier'].unique()\n",
        "train = filling_outlet_size(train,outlets)\n",
        "test = filling_outlet_size(test,outlets)"
      ]
    },
    {
      "cell_type": "code",
      "execution_count": 26,
      "id": "b4f0211c",
      "metadata": {
        "colab": {
          "base_uri": "https://localhost:8080/"
        },
        "id": "b4f0211c",
        "outputId": "12523513-48f7-4751-df76-5228343ff765"
      },
      "outputs": [
        {
          "name": "stdout",
          "output_type": "stream",
          "text": [
            "Missing Values in Outlet_Size col in train:  0\n",
            "Missing Values in Outlet_Size col in test:  0\n"
          ]
        }
      ],
      "source": [
        "print('Missing Values in Outlet_Size col in train: ',train['Outlet_Size'].isna().sum())\n",
        "print('Missing Values in Outlet_Size col in test: ',test['Outlet_Size'].isna().sum())"
      ]
    },
    {
      "cell_type": "markdown",
      "id": "14e93a8a",
      "metadata": {
        "id": "14e93a8a"
      },
      "source": [
        "Missing value problem for Outlet_Size has been solved.  \n",
        "Now for Item_Weight,  \n",
        "we can see above in bar plots that only OUT019, OUT017 have missing values."
      ]
    },
    {
      "cell_type": "code",
      "execution_count": 27,
      "id": "79a67355",
      "metadata": {
        "colab": {
          "base_uri": "https://localhost:8080/"
        },
        "id": "79a67355",
        "outputId": "d914158f-dfe4-499d-eb23-c24c061d632d"
      },
      "outputs": [
        {
          "name": "stdout",
          "output_type": "stream",
          "text": [
            "Info about Train dataset\n",
            "\n",
            "Total Unique items in dataset:  1559\n",
            "Total unique items that have null Item_Weights:  1142\n",
            "Total unique items that have non null Item_Weights:  1555\n",
            "Total items with known Item_Weight from dataset:  1138\n",
            "Total number of items with unknown Item_Weight:  4\n",
            "Item Names are:  ['FDE52' 'FDK57' 'FDN52' 'FDQ60']\n",
            "\n",
            "\n",
            "Info about Test dataset\n",
            "\n",
            "Total Unique items in dataset:  1543\n",
            "Total unique items that have null Item_Weights:  845\n",
            "Total unique items that have non null Item_Weights:  1527\n",
            "Total items with known Item_Weight from dataset:  829\n",
            "Total number of items with unknown Item_Weight:  16\n",
            "Item Names are:  ['DRN47' 'FDF04' 'FDF05' 'FDF22' 'FDG09' 'FDG50' 'FDG57' 'FDH58' 'FDI45'\n",
            " 'FDJ09' 'FDL58' 'FDO22' 'FDP28' 'FDT21' 'FDY57' 'NCJ30']\n",
            "\n",
            "\n",
            "Common items in both datasets with missing values:  []\n"
          ]
        }
      ],
      "source": [
        "def item_weight_info(dataset,name_df):    \n",
        "    print(\"Info about \"+name_df+\" dataset\\n\")\n",
        "    total = dataset['Item_Identifier'].unique()\n",
        "    print('Total Unique items in dataset: ',len(total))\n",
        "\n",
        "    null = dataset[dataset['Item_Weight'].isna()]['Item_Identifier']\n",
        "    print('Total unique items that have null Item_Weights: ',len(null.unique()))\n",
        "\n",
        "    non_null = dataset[~dataset['Item_Weight'].isna()]['Item_Identifier']\n",
        "    print('Total unique items that have non null Item_Weights: ',len(non_null.unique()))\n",
        "\n",
        "    common_items = np.intersect1d(null,non_null)\n",
        "    print(\"Total items with known Item_Weight from dataset: \",len(common_items))\n",
        "\n",
        "    non_common = np.setdiff1d(np.union1d(common_items, null), np.intersect1d(common_items, null))\n",
        "    print(\"Total number of items with unknown Item_Weight: \",len(non_common))\n",
        "    print(\"Item Names are: \",non_common)\n",
        "    print('\\n')\n",
        "    return non_common,total\n",
        "    \n",
        "train_items_with_missing_vals, train_total = item_weight_info(train,\"Train\")\n",
        "test_items_with_missing_vals, test_total = item_weight_info(test,\"Test\")\n",
        "\n",
        "common = np.intersect1d(train_items_with_missing_vals,test_items_with_missing_vals)\n",
        "print(\"Common items in both datasets with missing values: \",common)"
      ]
    },
    {
      "cell_type": "markdown",
      "id": "33363691",
      "metadata": {
        "id": "33363691"
      },
      "source": [
        "this means we can get the real values of item_weights from other datasets"
      ]
    },
    {
      "cell_type": "code",
      "execution_count": 28,
      "id": "0745525e",
      "metadata": {
        "id": "0745525e"
      },
      "outputs": [],
      "source": [
        "train_values={}\n",
        "for item in train_items_with_missing_vals:\n",
        "    train_values[item] = test[test['Item_Identifier']==item]['Item_Weight'].unique()[0]\n",
        "\n",
        "test_values={}\n",
        "for item in test_items_with_missing_vals:\n",
        "    test_values[item] = train[train['Item_Identifier']==item]['Item_Weight'].unique()[0]"
      ]
    },
    {
      "cell_type": "code",
      "execution_count": 29,
      "id": "120b897f",
      "metadata": {
        "id": "120b897f"
      },
      "outputs": [],
      "source": [
        "def filling_item_weight(dataset,items,values_dict):\n",
        "    new_df = pd.DataFrame()\n",
        "    for item in items:\n",
        "        df = dataset[dataset['Item_Identifier'] == item].copy()\n",
        "        if item in values_dict:\n",
        "            df.fillna(values_dict[item],inplace=True)\n",
        "        elif df.isna().sum().sum() > 0:\n",
        "            df.fillna(dataset[dataset['Item_Identifier'] == item]['Item_Weight'].mean(),inplace=True)\n",
        "            \n",
        "        new_df = pd.concat([new_df,df])\n",
        "    return new_df\n",
        "\n",
        "\n",
        "train = filling_item_weight(train, train_total, train_values)\n",
        "test = filling_item_weight(test, test_total, test_values)"
      ]
    },
    {
      "cell_type": "code",
      "execution_count": 30,
      "id": "afa9ce0a",
      "metadata": {
        "colab": {
          "base_uri": "https://localhost:8080/"
        },
        "id": "afa9ce0a",
        "outputId": "20632fc0-b7a8-4102-812c-8188d8a48134"
      },
      "outputs": [
        {
          "name": "stdout",
          "output_type": "stream",
          "text": [
            "Missing values in train dataset:  0\n",
            "Missing values in test dataset:  0\n"
          ]
        }
      ],
      "source": [
        "print('Missing values in train dataset: ',train.isna().sum().sum())\n",
        "print('Missing values in test dataset: ',test.isna().sum().sum())"
      ]
    },
    {
      "cell_type": "markdown",
      "id": "100efe2b",
      "metadata": {
        "id": "100efe2b"
      },
      "source": [
        "# Checking For Outliers"
      ]
    },
    {
      "cell_type": "code",
      "execution_count": 31,
      "id": "85d8bf08",
      "metadata": {
        "colab": {
          "base_uri": "https://localhost:8080/",
          "height": 898
        },
        "id": "85d8bf08",
        "outputId": "13b10d2c-7a6d-4b31-b97a-09a6d496d481"
      },
      "outputs": [
        {
          "data": {
            "image/png": "[encoded data removed]",
            "text/plain": [
              "<Figure size 1080x1080 with 6 Axes>"
            ]
          },
          "metadata": {
            "needs_background": "light"
          },
          "output_type": "display_data"
        }
      ],
      "source": [
        "cols = [f for f in train.columns if train[f].dtype == 'int64' or train[f].dtype == 'float64']\n",
        "_,axs = plt.subplots(3,2,figsize=(15, 15))\n",
        "col = iter(cols)\n",
        "for f, ax in zip(cols, axs.ravel()):\n",
        "    c=next(col)\n",
        "    ax1 = sns.boxplot(x=train[c],ax=ax)\n",
        "    ax1.set_xlabel(f)\n",
        "    ax1.tick_params(axis='x', rotation=45)\n",
        "plt.show()\n"
      ]
    },
    {
      "cell_type": "markdown",
      "id": "5fdb247d",
      "metadata": {
        "id": "5fdb247d"
      },
      "source": [
        "# PreProcessing"
      ]
    },
    {
      "cell_type": "code",
      "execution_count": 32,
      "id": "7fa4e1df",
      "metadata": {
        "id": "7fa4e1df"
      },
      "outputs": [],
      "source": [
        "# Changing all object types to category types to encode later on.\n",
        "for col in train.columns:\n",
        "    if train[col].dtype == 'object':\n",
        "        train[col]=train[col].astype('category')\n",
        "for col in test.columns:\n",
        "    if test[col].dtype == 'object':\n",
        "        test[col]=test[col].astype('category')"
      ]
    },
    {
      "cell_type": "code",
      "execution_count": 33,
      "id": "be5ace0d",
      "metadata": {
        "colab": {
          "base_uri": "https://localhost:8080/"
        },
        "id": "be5ace0d",
        "outputId": "5314123f-ef46-4c8a-dffa-f761ae4196c6"
      },
      "outputs": [
        {
          "name": "stdout",
          "output_type": "stream",
          "text": [
            "Dummy Features:  ['Item_Fat_Content', 'Outlet_Size', 'Outlet_Location_Type', 'Outlet_Type']\n",
            "Encoding Features:  ['Item_Identifier', 'Item_Type', 'Outlet_Identifier']\n",
            "Scaling Features:  ['Item_Weight', 'Item_Visibility', 'Item_MRP', 'Outlet_Establishment_Year']\n"
          ]
        }
      ],
      "source": [
        "# Features with lesser than or equal to 5 unique categories can be used as dummy varibles(OHE)\n",
        "cols_to_dummy = [c for c in train.columns if len(train[c].unique()) <= 5 and train[c].dtype == 'category']\n",
        "print(\"Dummy Features: \",cols_to_dummy)\n",
        "\n",
        "# Features with greater than 5 unique categories can be encoded by appropriate encoding techniques like Ordinal encoding\n",
        "cols_to_encode = [c for c in train.columns if len(train[c].unique()) > 5 and train[c].dtype == 'category']\n",
        "print(\"Encoding Features: \",cols_to_encode)\n",
        "\n",
        "# Numerical features has to be scaled\n",
        "cols_to_scale = [c for c in train.columns if train[c].dtype == 'float64' or train[c].dtype == 'int64']\n",
        "cols_to_scale.remove('Item_Outlet_Sales')\n",
        "print(\"Scaling Features: \",cols_to_scale)"
      ]
    },
    {
      "cell_type": "code",
      "execution_count": 34,
      "id": "9ce8e201",
      "metadata": {
        "id": "9ce8e201"
      },
      "outputs": [],
      "source": [
        "# Making Dummy Variables\n",
        "train = pd.get_dummies(train, columns=cols_to_dummy)\n",
        "test = pd.get_dummies(test, columns=cols_to_dummy)\n",
        "\n",
        "# Encoding features with more than 5 unique categories\n",
        "from sklearn.preprocessing import OrdinalEncoder\n",
        "enc = OrdinalEncoder()\n",
        "train[cols_to_encode] = enc.fit_transform(train[cols_to_encode])\n",
        "test[cols_to_encode] = enc.transform(test[cols_to_encode])"
      ]
    },
    {
      "cell_type": "markdown",
      "id": "bc189d7a",
      "metadata": {
        "id": "bc189d7a"
      },
      "source": [
        "# Splitting Data"
      ]
    },
    {
      "cell_type": "code",
      "execution_count": 35,
      "id": "f90628db",
      "metadata": {
        "id": "f90628db"
      },
      "outputs": [],
      "source": [
        "y = train.pop('Item_Outlet_Sales')"
      ]
    },
    {
      "cell_type": "code",
      "execution_count": 36,
      "id": "dde5e881",
      "metadata": {
        "id": "dde5e881"
      },
      "outputs": [],
      "source": [
        "from sklearn.model_selection import train_test_split\n",
        "x_train, x_test, y_train, y_test = train_test_split(train, y, test_size = 0.2)"
      ]
    },
    {
      "cell_type": "markdown",
      "id": "5e061b3c",
      "metadata": {
        "id": "5e061b3c"
      },
      "source": [
        "# Scaling Data"
      ]
    },
    {
      "cell_type": "code",
      "execution_count": 37,
      "id": "6f18dce0",
      "metadata": {
        "id": "6f18dce0"
      },
      "outputs": [],
      "source": [
        "from sklearn.preprocessing import RobustScaler\n",
        "scaler = RobustScaler()\n",
        "x_train[cols_to_scale] = enc.fit_transform(x_train[cols_to_scale])\n",
        "x_test[cols_to_scale] = enc.fit_transform(x_test[cols_to_scale])\n",
        "test[cols_to_scale] = enc.fit_transform(test[cols_to_scale])"
      ]
    },
    {
      "cell_type": "markdown",
      "id": "580a4d21",
      "metadata": {
        "id": "580a4d21"
      },
      "source": [
        "# Model Fitting"
      ]
    },
    {
      "cell_type": "code",
      "execution_count": 45,
      "id": "42c7e44b",
      "metadata": {
        "id": "42c7e44b"
      },
      "outputs": [],
      "source": [
        "from sklearn.linear_model import LinearRegression\n",
        "from sklearn.ensemble import GradientBoostingRegressor\n",
        "from sklearn.ensemble import RandomForestRegressor\n",
        "from sklearn.linear_model import ElasticNet\n",
        "from sklearn.linear_model import SGDRegressor\n",
        "from sklearn.svm import SVR\n",
        "from catboost import CatBoostRegressor\n",
        "from xgboost.sklearn import XGBRegressor\n",
        "from lightgbm import LGBMRegressor\n",
        "from sklearn.neighbors import KNeighborsRegressor\n",
        "from sklearn.linear_model import Ridge\n",
        "from sklearn.metrics import max_error, mean_absolute_error,mean_squared_error,r2_score\n",
        "from sklearn.model_selection import KFold, cross_val_score\n",
        "\n",
        "models = {\n",
        "    'linear regression' : LinearRegression(),\n",
        "    'GradientBoostingRegressor': GradientBoostingRegressor(),\n",
        "    'RandomForestRegressor' : RandomForestRegressor(),\n",
        "    'ElasticNet' : ElasticNet(),\n",
        "    'SGDRegressor' : SGDRegressor(max_iter=2000),\n",
        "    'SVR' : SVR(),\n",
        "    'CatBoost' : CatBoostRegressor(verbose=0),\n",
        "    'XGBRegressor' : XGBRegressor(),\n",
        "    'LGBMRegressor' : LGBMRegressor(),\n",
        "    'KNeighborsRegressor' : KNeighborsRegressor(),\n",
        "    'Ridge' : Ridge(),\n",
        "}\n",
        "\n",
        "for name, model in models.items():\n",
        "    model.fit(x_train, y_train)\n",
        "    print(f'{name} trained')"
      ]
    },
    {
      "cell_type": "markdown",
      "id": "108a4f29",
      "metadata": {
        "id": "108a4f29"
      },
      "source": [
        "# Cross Validation"
      ]
    },
    {
      "cell_type": "code",
      "execution_count": 96,
      "id": "05051e8a",
      "metadata": {
        "id": "05051e8a"
      },
      "outputs": [],
      "source": [
        "kf = KFold(n_splits=10)"
      ]
    },
    {
      "cell_type": "code",
      "execution_count": null,
      "id": "2c8dd974",
      "metadata": {
        "id": "2c8dd974"
      },
      "outputs": [],
      "source": [
        "results = {}\n",
        "\n",
        "for name, model in models.items():\n",
        "    result = np.sqrt(np.absolute(cross_val_score(model, x_train, y_train, scoring= 'neg_mean_squared_error', cv= kf)))\n",
        "    results[name] = result\n",
        "\n",
        "mean_res={}\n",
        "for name, result in results.items():\n",
        "    mean_res[name] = np.mean(result)\n",
        "\n",
        "for name, result in sorted(mean_res.items(), key=lambda x: x[1]):\n",
        "    print(name+\"  ----->  \"+result)"
      ]
    },
    {
      "cell_type": "markdown",
      "id": "3_nH-HB3cn0v",
      "metadata": {
        "id": "3_nH-HB3cn0v"
      },
      "source": [
        "Scores after training different models on default parameters:     \n",
        "\n",
        "GradientBoostingRegressor 1081.5751391944918        \n",
        "LGBMRegressor 1107.908405729656        \n",
        "CatBoost 1120.0096666517916        \n",
        "Ridge 1124.6431654694052        \n",
        "linear regression 1124.6437648088292        \n",
        "RandomForestRegressor 1130.8483158529339        \n",
        "XGBRegressor 1189.5514050886934        \n",
        "ElasticNet 1257.3462638940737        \n",
        "KNeighborsRegressor 1448.803026944895        \n",
        "SVR 1596.562744491264        \n",
        "SGDRegressor 2510970101894195.0        \n"
      ]
    },
    {
      "cell_type": "markdown",
      "id": "c5949f2c",
      "metadata": {
        "id": "c5949f2c"
      },
      "source": [
        "Lets take top 5 best performers of cross validtion sets and do HyperParameter tuning."
      ]
    },
    {
      "cell_type": "markdown",
      "id": "71fdc76c",
      "metadata": {
        "id": "71fdc76c"
      },
      "source": [
        "# HyperParameter Tuning"
      ]
    },
    {
      "cell_type": "code",
      "execution_count": 40,
      "id": "f5dbda98",
      "metadata": {
        "id": "f5dbda98"
      },
      "outputs": [],
      "source": [
        "from sklearn.model_selection import GridSearchCV"
      ]
    },
    {
      "cell_type": "code",
      "execution_count": 67,
      "id": "c03155c3",
      "metadata": {
        "id": "c03155c3"
      },
      "outputs": [],
      "source": [
        "def HyperParameterTuning(name,model,params):\n",
        "    grid = GridSearchCV(estimator=model,\n",
        "                           param_grid=params,\n",
        "                           scoring='neg_mean_squared_error',\n",
        "                           cv=5,\n",
        "                           n_jobs=-1)\n",
        "    grid.fit(x_train,y_train)\n",
        "    print(\"Results of \"+name+\" model\\n\")\n",
        "    print('Best Model with Parameters: ',grid.best_params_)\n",
        "    print(\"Best Score: \",grid.best_score_)\n",
        "    return grid.best_estimator_,grid.best_score_"
      ]
    },
    {
      "cell_type": "code",
      "execution_count": 68,
      "id": "04079987",
      "metadata": {
        "colab": {
          "base_uri": "https://localhost:8080/"
        },
        "id": "04079987",
        "outputId": "fb8f5c65-243c-4f48-9057-fc2c637a3bd5"
      },
      "outputs": [
        {
          "name": "stdout",
          "output_type": "stream",
          "text": [
            "Results of GradientBoostingRegressor model\n",
            "\n",
            "Best Model with Parameters:  {'max_depth': 2, 'max_features': 'auto', 'n_estimators': 90, 'warm_start': False}\n",
            "Best Score:  -1156914.1730931485\n",
            "RMSE score:  1075.599448258109\n"
          ]
        }
      ],
      "source": [
        "# GradientBoostingRegressor\n",
        "\n",
        "GBR_params = {'n_estimators':[80,90,100,200],'max_depth':[2,3,4],'max_features':['auto','log2'],'warm_start':[True,False]}\n",
        "GBR =  GradientBoostingRegressor()\n",
        "GBR_model,GBR_score = HyperParameterTuning('GradientBoostingRegressor',GBR,GBR_params)\n",
        "print(\"RMSE score: \",np.sqrt(np.absolute(GBR_score)))"
      ]
    },
    {
      "cell_type": "markdown",
      "id": "4SfIVklC1VDe",
      "metadata": {
        "id": "4SfIVklC1VDe"
      },
      "source": [
        "Output after running above cell:         \n",
        "\n",
        "Results of GradientBoostingRegressor model\n",
        "\n",
        "Best Model with Parameters:  {'max_depth': 2, 'max_features': 'auto', 'n_estimators': 90, 'warm_start': False}           \n",
        "Best Score:  -1156914.1730931485           \n",
        "RMSE score:  1075.599448258109           "
      ]
    },
    {
      "cell_type": "code",
      "execution_count": 70,
      "id": "lLfFlZPyedxw",
      "metadata": {
        "colab": {
          "base_uri": "https://localhost:8080/"
        },
        "id": "lLfFlZPyedxw",
        "outputId": "7af861bf-66a1-4523-8dcd-74a2008e5f7f"
      },
      "outputs": [
        {
          "name": "stdout",
          "output_type": "stream",
          "text": [
            "Results of LGBMRegressor model\n",
            "\n",
            "Best Model with Parameters:  {'max_depth': 2, 'n_estimators': 100, 'reg_alpha': 0.25, 'reg_lambda': 0}\n",
            "Best Score:  -1150036.0188730017\n",
            "RMSE score:  1072.3973232309943\n"
          ]
        }
      ],
      "source": [
        "# LGBMRegressor\n",
        "\n",
        "LGBM_params = {'n_estimators':[100,200,400,600],'max_depth':[-1,2,3],'reg_alpha':[0,0.1,0.2,0.25],'reg_lambda':[0,0.1,0.2]}\n",
        "LGBM =  LGBMRegressor()\n",
        "LGBM_model,LGBM_score = HyperParameterTuning('LGBMRegressor',LGBM,LGBM_params)\n",
        "print(\"RMSE score: \",np.sqrt(np.absolute(LGBM_score)))"
      ]
    },
    {
      "cell_type": "markdown",
      "id": "xWKjIAib1gQn",
      "metadata": {
        "id": "xWKjIAib1gQn"
      },
      "source": [
        "Output after running above cell:      \n",
        "\n",
        "Results of LGBMRegressor model\n",
        "\n",
        "Best Model with Parameters:  {'max_depth': 2, 'n_estimators': 100, 'reg_alpha': 0.25, 'reg_lambda': 0}           \n",
        "Best Score:  -1150036.0188730017           \n",
        "RMSE score:  1072.3973232309943           "
      ]
    },
    {
      "cell_type": "code",
      "execution_count": 71,
      "id": "fBj6ZzyNi9_a",
      "metadata": {
        "colab": {
          "base_uri": "https://localhost:8080/"
        },
        "id": "fBj6ZzyNi9_a",
        "outputId": "595528c9-3e58-47fc-bffa-a6dcf068014e"
      },
      "outputs": [
        {
          "name": "stdout",
          "output_type": "stream",
          "text": [
            "Results of CatBoost model\n",
            "\n",
            "Best Model with Parameters:  {'depth': 4, 'learning_rate': 0.05, 'n_estimators': 100, 'reg_lambda': 0.2}\n",
            "Best Score:  -1151683.0287196394\n",
            "RMSE score:  1073.164958764327\n"
          ]
        }
      ],
      "source": [
        "# CatBoost \n",
        "\n",
        "catboost_params = {'depth': [4,6,8],'learning_rate': [0.01, 0.05, 0.1],'n_estimators':[80,90,100,200],'reg_lambda':[0,0.1,0.2]}\n",
        "catboost = CatBoostRegressor(verbose=0)\n",
        "catboost_model,catboost_score = HyperParameterTuning('CatBoost',catboost,catboost_params)\n",
        "print(\"RMSE score: \",np.sqrt(np.absolute(catboost_score)))"
      ]
    },
    {
      "cell_type": "markdown",
      "id": "4eUqtZY61na4",
      "metadata": {
        "id": "4eUqtZY61na4"
      },
      "source": [
        "Output after running above cell:      \n",
        "\n",
        "Results of CatBoost model\n",
        "\n",
        "Best Model with Parameters:  {'depth': 4, 'learning_rate': 0.05, 'n_estimators': 100, 'reg_lambda': 0.2}           \n",
        "Best Score:  -1151683.0287196394           \n",
        "RMSE score:  1073.164958764327           "
      ]
    },
    {
      "cell_type": "code",
      "execution_count": 72,
      "id": "ZmnkqA4ck8Ee",
      "metadata": {
        "colab": {
          "base_uri": "https://localhost:8080/"
        },
        "id": "ZmnkqA4ck8Ee",
        "outputId": "850dc3d6-c926-4f50-83ea-4fee6ba876cd"
      },
      "outputs": [
        {
          "name": "stdout",
          "output_type": "stream",
          "text": [
            "Results of Ridge model\n",
            "\n",
            "Best Model with Parameters:  {'max_iter': 1200, 'solver': 'cholesky', 'tol': 0.1}\n",
            "Best Score:  -1267971.2134231322\n",
            "RMSE score:  1126.0422787014404\n"
          ]
        }
      ],
      "source": [
        "# Ridge\n",
        "\n",
        "ridge_params = {'solver':['svd','cholesky','lsqr','sparse_cg','sag','saga'],'max_iter':[1200,1500,2000],'tol':[1e-1,1e-2,1e-3,1e-4]}\n",
        "ridge =  Ridge()\n",
        "ridge_model,ridge_score = HyperParameterTuning('Ridge',ridge,ridge_params)\n",
        "print(\"RMSE score: \",np.sqrt(np.absolute(ridge_score)))"
      ]
    },
    {
      "cell_type": "markdown",
      "id": "aNpyBcdq1vgb",
      "metadata": {
        "id": "aNpyBcdq1vgb"
      },
      "source": [
        "Output after running above cell:           \n",
        "\n",
        "Results of Ridge model\n",
        "\n",
        "Best Model with Parameters:  {'max_iter': 1200, 'solver': 'cholesky', 'tol': 0.1}           \n",
        "Best Score:  -1267971.2134231322           \n",
        "RMSE score:  1126.0422787014404           "
      ]
    },
    {
      "cell_type": "markdown",
      "id": "SkOFZOkJ2Ux4",
      "metadata": {
        "id": "SkOFZOkJ2Ux4"
      },
      "source": [
        "# HyperParameter Tuning Results:\n",
        "\n",
        "GradientBoostingRegressor,  LGBMRegressor,  CatBoost  all 3 are performing equally good on cross validation on training set.\n"
      ]
    },
    {
      "cell_type": "markdown",
      "id": "b5abd447",
      "metadata": {
        "id": "b5abd447"
      },
      "source": [
        "# Evaluating Performance on test set\n",
        "\n",
        "Now lets test our models on test set."
      ]
    },
    {
      "cell_type": "code",
      "execution_count": 74,
      "id": "2857af5f",
      "metadata": {
        "colab": {
          "base_uri": "https://localhost:8080/"
        },
        "id": "2857af5f",
        "outputId": "faae5374-85d1-418e-8b1b-22e1ea03df88"
      },
      "outputs": [
        {
          "name": "stdout",
          "output_type": "stream",
          "text": [
            "RMSE score of GBR model on test set:  1733.65473483868\n",
            "RMSE score of LGBM model on test set:  1737.7360427637957\n",
            "RMSE score of CatBoost model on test set:  1732.9670316396723\n"
          ]
        }
      ],
      "source": [
        "models = {'GBR':GBR_model, 'LGBM':LGBM_model, 'CatBoost':catboost_model}\n",
        "for name,model in models.items():\n",
        "  y_pred = model.predict(x_test)\n",
        "  score = np.sqrt(mean_squared_error(y_test,y_pred))\n",
        "  print(\"RMSE score of \"+name+' model on test set: ',score)"
      ]
    },
    {
      "cell_type": "markdown",
      "id": "D48eb6VQ4afn",
      "metadata": {
        "id": "D48eb6VQ4afn"
      },
      "source": [
        "After running above cell:    \n",
        "\n",
        "RMSE score of GBR model on test set:  1733.65473483868      \n",
        "RMSE score of LGBM model on test set:  1737.7360427637957        \n",
        "RMSE score of CatBoost model on test set:  1732.9670316396723      "
      ]
    },
    {
      "cell_type": "markdown",
      "id": "LUlRc_ZZ48_k",
      "metadata": {
        "id": "LUlRc_ZZ48_k"
      },
      "source": [
        "GradientBoostingRegressor   and   CatBoost models are performing best."
      ]
    },
    {
      "cell_type": "code",
      "execution_count": null,
      "id": "bd72b029",
      "metadata": {},
      "outputs": [],
      "source": []
    },
    {
      "cell_type": "markdown",
      "id": "Y95tgTMz5PcQ",
      "metadata": {
        "id": "Y95tgTMz5PcQ"
      },
      "source": [
        "# Making Predictions on provided Test Set"
      ]
    },
    {
      "cell_type": "code",
      "execution_count": 89,
      "id": "MUfan_Os7GT5",
      "metadata": {
        "id": "MUfan_Os7GT5"
      },
      "outputs": [],
      "source": [
        "test.sort_index(inplace=True)"
      ]
    },
    {
      "cell_type": "code",
      "execution_count": 91,
      "id": "EtImtPKl528F",
      "metadata": {
        "id": "EtImtPKl528F"
      },
      "outputs": [],
      "source": [
        "GBRPredictions = GBR_model.predict(test)\n",
        "res = pd.DataFrame({'id':test.index,'Item_Outlet_Sales':GBRPredictions})\n",
        "res.to_csv('GradientBoostingPredictions.csv',index=False)"
      ]
    },
    {
      "cell_type": "code",
      "execution_count": 92,
      "id": "Vgqg2ewy7sr3",
      "metadata": {
        "id": "Vgqg2ewy7sr3"
      },
      "outputs": [],
      "source": [
        "CatBoostPredictions = catboost_model.predict(test)\n",
        "res = pd.DataFrame({'id':test.index,'Item_Outlet_Sales':CatBoostPredictions})\n",
        "res.to_csv('CatBoostPredictions.csv',index=False)"
      ]
    },
    {
      "cell_type": "markdown",
      "id": "WJt9-8gw9J_9",
      "metadata": {
        "id": "WJt9-8gw9J_9"
      },
      "source": [
        "# Saving Model"
      ]
    },
    {
      "cell_type": "code",
      "execution_count": 93,
      "id": "veK5yykU8XP6",
      "metadata": {
        "id": "veK5yykU8XP6"
      },
      "outputs": [],
      "source": [
        "import pickle\n",
        "pickle.dump(GBR_model, open(\"GBR.pickle.dat\", \"wb\"))\n",
        "pickle.dump(catboost_model, open(\"CatBoost.pickle.dat\", \"wb\"))"
      ]
    },
    {
      "cell_type": "markdown",
      "id": "ARcNSKlH9NR7",
      "metadata": {
        "id": "ARcNSKlH9NR7"
      },
      "source": [
        "# Loading Models\n",
        "\n",
        "For later use"
      ]
    },
    {
      "cell_type": "code",
      "execution_count": 94,
      "id": "Cy_P73rl8qfy",
      "metadata": {
        "id": "Cy_P73rl8qfy"
      },
      "outputs": [],
      "source": [
        "# GBR = pickle.load(open(\"GBR.pickle.dat\", \"rb\"))\n",
        "# CB = pickle.load(open(\"CatBoost.pickle.dat\", \"rb\"))"
      ]
    }
  ],
  "metadata": {
    "accelerator": "GPU",
    "colab": {
      "provenance": []
    },
    "gpuClass": "standard",
    "kernelspec": {
      "display_name": "Python 3.10.3 64-bit",
      "language": "python",
      "name": "python3"
    },
    "language_info": {
      "codemirror_mode": {
        "name": "ipython",
        "version": 3
      },
      "file_extension": ".py",
      "mimetype": "text/x-python",
      "name": "python",
      "nbconvert_exporter": "python",
      "pygments_lexer": "ipython3",
      "version": "3.10.3"
    },
    "vscode": {
      "interpreter": {
        "hash": "4323cec2d52b922c9f7bbe1804da129109550f4257a94c7360d37c119722165e"
      }
    }
  },
  "nbformat": 4,
  "nbformat_minor": 5
}
